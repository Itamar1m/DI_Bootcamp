{
 "cells": [
  {
   "cell_type": "code",
   "execution_count": 32,
   "id": "regional-cherry",
   "metadata": {},
   "outputs": [],
   "source": [
    "# Daily Challenge\n",
    "import numpy as np\n",
    "import random"
   ]
  },
  {
   "cell_type": "markdown",
   "id": "helpful-cemetery",
   "metadata": {},
   "source": [
    "No1"
   ]
  },
  {
   "cell_type": "code",
   "execution_count": 33,
   "id": "ordinary-cambridge",
   "metadata": {},
   "outputs": [
    {
     "name": "stdout",
     "output_type": "stream",
     "text": [
      "[58 76 78 ... 97 42 52]\n"
     ]
    }
   ],
   "source": [
    "# Numpy\n",
    "table= np.random.randint(101,size=40*50)\n",
    "print(table)"
   ]
  },
  {
   "cell_type": "code",
   "execution_count": 34,
   "id": "maritime-chemical",
   "metadata": {},
   "outputs": [],
   "source": [
    "table=table.reshape(40,50)"
   ]
  },
  {
   "cell_type": "code",
   "execution_count": 35,
   "id": "breathing-conservation",
   "metadata": {},
   "outputs": [
    {
     "data": {
      "text/plain": [
       "array([[58, 76, 78, ..., 96, 10,  9],\n",
       "       [48, 88, 85, ..., 78, 37, 24],\n",
       "       [15, 98, 61, ...,  4, 22, 96],\n",
       "       ...,\n",
       "       [62, 62, 82, ..., 55,  3, 72],\n",
       "       [61, 21, 41, ..., 52, 44, 68],\n",
       "       [56, 55, 14, ..., 97, 42, 52]])"
      ]
     },
     "execution_count": 35,
     "metadata": {},
     "output_type": "execute_result"
    }
   ],
   "source": [
    "table"
   ]
  },
  {
   "cell_type": "code",
   "execution_count": 153,
   "id": "continental-substitute",
   "metadata": {},
   "outputs": [],
   "source": [
    "# python\n",
    "rows, cols = (40, 50) \n",
    "table2=[] \n",
    "for i in range(cols): \n",
    "    col = [] \n",
    "    for j in range(rows): \n",
    "        col.append(random.randint(0,100)) \n",
    "    table2.append(col) \n"
   ]
  },
  {
   "cell_type": "markdown",
   "id": "complimentary-degree",
   "metadata": {},
   "source": [
    "No 2"
   ]
  },
  {
   "cell_type": "code",
   "execution_count": 156,
   "id": "removed-machine",
   "metadata": {},
   "outputs": [
    {
     "name": "stdout",
     "output_type": "stream",
     "text": [
      "[98, 58, 67, 70, 74, 61, 97, 0, 42, 90, 63, 30, 81, 45, 97, 44, 12, 21, 93, 91, 23, 24, 15, 81, 99, 31, 47, 64, 1, 7, 90, 8, 72, 9, 96, 61, 50, 34, 32, 49]\n",
      "[53 65  4 36  8 46  1 21 71 17  6 29 67 40 68 25 68 44 52 45 75 35 76 65\n",
      " 40 97 35 30 25 76 58 53 43 61 29 35  4 56 68 61 45 32 38 87 83 56 33  4\n",
      " 44 31]\n"
     ]
    }
   ],
   "source": [
    "# python\n",
    "print(table2[3])\n",
    "# numpy\n",
    "print(table[3])"
   ]
  },
  {
   "cell_type": "markdown",
   "id": "partial-saudi",
   "metadata": {},
   "source": [
    "No 3 "
   ]
  },
  {
   "cell_type": "code",
   "execution_count": 174,
   "id": "worthy-lunch",
   "metadata": {},
   "outputs": [
    {
     "data": {
      "text/plain": [
       "array([78, 85, 61,  4, 87, 14, 24, 53, 95, 94, 31, 40, 75, 86, 78, 22, 95,\n",
       "       80, 10, 10, 50, 48, 39, 85, 68,  4, 70, 42, 24, 45, 89, 26, 43, 87,\n",
       "        4, 55, 40, 82, 41, 14])"
      ]
     },
     "execution_count": 174,
     "metadata": {},
     "output_type": "execute_result"
    }
   ],
   "source": [
    "# numpy\n",
    "table[:,2]\n",
    "# python\n",
    "for num in table2:\n",
    "    print (num[2])\n",
    "\n"
   ]
  },
  {
   "cell_type": "markdown",
   "id": "neutral-pavilion",
   "metadata": {},
   "source": [
    "No 4"
   ]
  },
  {
   "cell_type": "code",
   "execution_count": 219,
   "id": "miniature-cigarette",
   "metadata": {},
   "outputs": [
    {
     "name": "stdout",
     "output_type": "stream",
     "text": [
      "[7, 7, 7, 7, 7, 7, 7, 7, 7, 7, 7, 7, 7, 7, 7, 7, 7, 7, 7, 7, 7, 7, 7, 7, 7, 7, 7, 7, 7, 7, 7, 7, 7, 7, 7, 7, 7, 7, 7, 7]\n",
      "[7 7 7 7 7 7 7 7 7 7 7 7 7 7 7 7 7 7 7 7 7 7 7 7 7 7 7 7 7 7 7 7 7 7 7 7 7\n",
      " 7 7 7 7 7 7 7 7 7 7 7 7 7]\n"
     ]
    }
   ],
   "source": [
    "# python\n",
    "for i in range(len(table2[-1])):\n",
    "    table2[-1][i]=7\n",
    "print(table2[-1])\n",
    "\n",
    "# numpy\n",
    "table[5]=7\n",
    "print(table[5])\n",
    "\n",
    "\n",
    "\n",
    "    \n",
    "    \n",
    "    "
   ]
  },
  {
   "cell_type": "markdown",
   "id": "comparative-riding",
   "metadata": {},
   "source": [
    "No 5"
   ]
  },
  {
   "cell_type": "code",
   "execution_count": 241,
   "id": "human-genesis",
   "metadata": {},
   "outputs": [
    {
     "ename": "TypeError",
     "evalue": "'int' object is not subscriptable",
     "output_type": "error",
     "traceback": [
      "\u001b[1;31m---------------------------------------------------------------------------\u001b[0m",
      "\u001b[1;31mTypeError\u001b[0m                                 Traceback (most recent call last)",
      "\u001b[1;32m<ipython-input-241-664f6aa927e1>\u001b[0m in \u001b[0;36m<module>\u001b[1;34m\u001b[0m\n\u001b[0;32m      1\u001b[0m \u001b[1;31m# python\u001b[0m\u001b[1;33m\u001b[0m\u001b[1;33m\u001b[0m\u001b[1;33m\u001b[0m\u001b[0m\n\u001b[0;32m      2\u001b[0m \u001b[1;32mfor\u001b[0m \u001b[0mnum\u001b[0m \u001b[1;32min\u001b[0m \u001b[0mrange\u001b[0m\u001b[1;33m(\u001b[0m\u001b[0mlen\u001b[0m\u001b[1;33m(\u001b[0m\u001b[0mtable2\u001b[0m\u001b[1;33m)\u001b[0m\u001b[1;33m)\u001b[0m\u001b[1;33m:\u001b[0m\u001b[1;33m\u001b[0m\u001b[1;33m\u001b[0m\u001b[0m\n\u001b[1;32m----> 3\u001b[1;33m     \u001b[0mtable2\u001b[0m\u001b[1;33m[\u001b[0m\u001b[0mnum\u001b[0m\u001b[1;33m]\u001b[0m\u001b[1;33m[\u001b[0m\u001b[1;33m-\u001b[0m\u001b[1;36m1\u001b[0m\u001b[1;33m]\u001b[0m\u001b[1;33m=\u001b[0m\u001b[0mtable2\u001b[0m\u001b[1;33m[\u001b[0m\u001b[0mnum\u001b[0m\u001b[1;33m]\u001b[0m\u001b[1;33m[\u001b[0m\u001b[1;36m0\u001b[0m\u001b[1;33m]\u001b[0m\u001b[1;33m+\u001b[0m\u001b[0mtable2\u001b[0m\u001b[1;33m[\u001b[0m\u001b[0mnum\u001b[0m\u001b[1;33m]\u001b[0m\u001b[1;33m[\u001b[0m\u001b[1;36m1\u001b[0m\u001b[1;33m]\u001b[0m\u001b[1;33m\u001b[0m\u001b[1;33m\u001b[0m\u001b[0m\n\u001b[0m\u001b[0;32m      4\u001b[0m \u001b[0mprint\u001b[0m\u001b[1;33m(\u001b[0m\u001b[0mtable2\u001b[0m\u001b[1;33m[\u001b[0m\u001b[1;36m0\u001b[0m\u001b[1;33m]\u001b[0m\u001b[1;33m)\u001b[0m\u001b[1;33m\u001b[0m\u001b[1;33m\u001b[0m\u001b[0m\n\u001b[0;32m      5\u001b[0m \u001b[0mprint\u001b[0m\u001b[1;33m(\u001b[0m\u001b[0mtable2\u001b[0m\u001b[1;33m[\u001b[0m\u001b[1;36m1\u001b[0m\u001b[1;33m]\u001b[0m\u001b[1;33m)\u001b[0m\u001b[1;33m\u001b[0m\u001b[1;33m\u001b[0m\u001b[0m\n",
      "\u001b[1;31mTypeError\u001b[0m: 'int' object is not subscriptable"
     ]
    }
   ],
   "source": [
    "# python\n",
    "for num in range(len(table2)):\n",
    "    table2[num][-1]=table2[num][0]+table2[num][1]\n",
    "print(table2[0])\n",
    "print(table2[1])\n",
    "    \n",
    "# numpy\n",
    "table[ :,-1]=(table[ :,0]) +(table[ :,1])\n"
   ]
  },
  {
   "cell_type": "code",
   "execution_count": 235,
   "id": "intended-scout",
   "metadata": {},
   "outputs": [
    {
     "data": {
      "text/plain": [
       "array([ 7,  7,  7,  7,  7,  7,  7,  7,  7,  7,  7,  7,  7,  7,  7,  7,  7,\n",
       "        7,  7,  7,  7,  7,  7,  7,  7,  7,  7,  7,  7,  7,  7,  7,  7,  7,\n",
       "        7,  7,  7,  7,  7,  7,  7,  7,  7,  7,  7,  7,  7,  7,  7, 14])"
      ]
     },
     "execution_count": 235,
     "metadata": {},
     "output_type": "execute_result"
    }
   ],
   "source": [
    "table[-1]"
   ]
  },
  {
   "cell_type": "code",
   "execution_count": 231,
   "id": "reserved-coffee",
   "metadata": {},
   "outputs": [
    {
     "data": {
      "text/plain": [
       "80"
      ]
     },
     "execution_count": 231,
     "metadata": {},
     "output_type": "execute_result"
    }
   ],
   "source": [
    "table2[0][0]"
   ]
  },
  {
   "cell_type": "code",
   "execution_count": null,
   "id": "wicked-queue",
   "metadata": {},
   "outputs": [],
   "source": []
  }
 ],
 "metadata": {
  "kernelspec": {
   "display_name": "Python 3",
   "language": "python",
   "name": "python3"
  },
  "language_info": {
   "codemirror_mode": {
    "name": "ipython",
    "version": 3
   },
   "file_extension": ".py",
   "mimetype": "text/x-python",
   "name": "python",
   "nbconvert_exporter": "python",
   "pygments_lexer": "ipython3",
   "version": "3.9.1"
  }
 },
 "nbformat": 4,
 "nbformat_minor": 5
}
